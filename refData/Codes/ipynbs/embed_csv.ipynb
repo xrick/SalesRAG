{
 "cells": [
  {
   "cell_type": "markdown",
   "id": "40851a15-3f96-4218-82ca-867755a501f3",
   "metadata": {},
   "source": [
    "## Milvus使用範例"
   ]
  },
  {
   "cell_type": "code",
   "execution_count": 2,
   "id": "4093765e-ecb5-4638-934a-1620ba5d26d4",
   "metadata": {},
   "outputs": [
    {
     "name": "stderr",
     "output_type": "stream",
     "text": [
      "/Users/xrickliao/miniconda3/miniconda3/envs/llmenv/lib/python3.11/site-packages/tqdm/auto.py:21: TqdmWarning: IProgress not found. Please update jupyter and ipywidgets. See https://ipywidgets.readthedocs.io/en/stable/user_install.html\n",
      "  from .autonotebook import tqdm as notebook_tqdm\n"
     ]
    }
   ],
   "source": [
    "# from pymilvus import model, MilvusClient, DataType, FieldSchema, CollectionSchema\n",
    "# import pandas as pd\n",
    "from pymilvus import model, MilvusClient, DataType, FieldSchema, CollectionSchema, connections, utility\n",
    "from pymilvus.client.types import LoadState\n",
    "import pandas as pd\n",
    "from pymilvus.model.dense import SentenceTransformerEmbeddingFunction"
   ]
  },
  {
   "cell_type": "code",
   "execution_count": null,
   "id": "ca534383-045a-4332-8b4a-cedc5ca3f955",
   "metadata": {},
   "outputs": [],
   "source": []
  },
  {
   "cell_type": "code",
   "execution_count": 3,
   "id": "9c9098e2-f0b3-44ad-a876-0970233129d4",
   "metadata": {},
   "outputs": [
    {
     "data": {
      "text/plain": [
       "'\\nproblemtype\\nmodule\\nseverity\\ndescription\\ncauseAnalysis\\nimprove\\nexperience\\n'"
      ]
     },
     "execution_count": 3,
     "metadata": {},
     "output_type": "execute_result"
    }
   ],
   "source": [
    "# def init_embedding():\n",
    "#     # 初始化嵌入模型\n",
    "#     ef = model.DefaultEmbeddingFunction()  # 正確引用model內的方法\n",
    "#     client = MilvusClient(\"./milvus_data.db\")\n",
    "#     return ef, client\n",
    "'''\n",
    "problemtype\n",
    "module\n",
    "severity\n",
    "description\n",
    "causeAnalysis\n",
    "improve\n",
    "experience\n",
    "'''"
   ]
  },
  {
   "cell_type": "code",
   "execution_count": 10,
   "id": "a460b7a5-2907-4960-b287-3c73a8ae01a0",
   "metadata": {},
   "outputs": [],
   "source": [
    "_dbName=\"dqe_kb_db\"\n",
    "_collectionName='qualityQA'\n",
    "_collectionDesc=\"quailty_qa_collection\"\n",
    "_csv_src = \"../../../source_data/DQE_Issues/DQE_Issue_total_corrected_v1.csv\"\n",
    "# jina_embeddings=\"/home/mapleleaf/LCJRepos/Embedding_Models/jina-embeddings-v2-base-zh/\"\n",
    "jina_embeddings = \"/Users/xrickliao/WorkSpaces/Embedding_Models/jina-embeddings-v2-base-zh/\"\n",
    "alias = \"default\" # 使用的連線別名"
   ]
  },
  {
   "cell_type": "code",
   "execution_count": 11,
   "id": "9a25d602-1c5f-4d89-bfe8-c9795d4da8ea",
   "metadata": {},
   "outputs": [],
   "source": [
    "'''\n",
    "to-do:\n",
    "    1.Adding whether dbName contain '.db' extension\n",
    "    2.Checking whether collectionName has exist.\n",
    "'''\n",
    "    # 初始化组件\n",
    "# ef = model.DefaultEmbeddingFunction()  # 确保已安装 pymilvus[model]\n",
    "# openai_ef = model.dense.OpenAIEmbeddingFunction(\n",
    "#     model_name='text-embedding-3-large', # Specify the model name\n",
    "#     dimensions=512 # Set the embedding dimensionality according to MRL feature.\n",
    "# )\n",
    "ef = SentenceTransformerEmbeddingFunction(jina_embeddings, trust_remote_code=True)\n",
    "\n",
    "client = MilvusClient(\n",
    "    uri=\"http://localhost:19530\",\n",
    "    token=\"root:Milvus\",\n",
    "    \n",
    ") \n",
    "\n"
   ]
  },
  {
   "cell_type": "code",
   "execution_count": 12,
   "id": "f0b356b7-27c0-4cee-8520-22d733fe0cfd",
   "metadata": {},
   "outputs": [
    {
     "name": "stdout",
     "output_type": "stream",
     "text": [
      "original dim of ef:768\n"
     ]
    }
   ],
   "source": [
    "print(f\"original dim of ef:{ef.dim}\")"
   ]
  },
  {
   "cell_type": "code",
   "execution_count": 13,
   "id": "d92ca023-a435-48ce-8e42-29dac5f105d9",
   "metadata": {},
   "outputs": [
    {
     "name": "stdout",
     "output_type": "stream",
     "text": [
      "[]\n",
      "{'state': <LoadState: NotExist>}\n",
      "Loaded\n"
     ]
    }
   ],
   "source": [
    "current_collections = client.list_collections()\n",
    "print(current_collections)\n",
    "load_state = client.get_load_state(collection_name=_collectionName)#client.get_collection_stats(collection_name=_collectionName)\n",
    "print(load_state)\n",
    "print(LoadState.Loaded)\n",
    "if load_state['state'] == LoadState.Loaded:\n",
    "    print(\"collection has loaded\")\n",
    "# alias_to_use = getattr(client, 'alias') # 嘗試獲取內部 alias，否則用 'default'\n",
    "# print(alias_to_use)\n",
    "# load_state = utility.load_state(collection_name=_collectionName, using=alias_to_use)"
   ]
  },
  {
   "cell_type": "code",
   "execution_count": 6,
   "id": "bc7dc65a-886c-472c-a09f-87052ca3a99e",
   "metadata": {},
   "outputs": [
    {
     "name": "stdout",
     "output_type": "stream",
     "text": [
      "列出現在資料庫：['default', 'dqe_kb_db']\n",
      "使用dqe_kb_db\n",
      "collection:qualityQA是否已建立:True\n"
     ]
    }
   ],
   "source": [
    "print(f\"列出現在資料庫：{client.list_databases()}\")\n",
    "print(\"使用dqe_kb_db\")\n",
    "client.use_database(_dbName)\n",
    "print(f\"collection:{_collectionName}是否已建立:{client.has_collection(_collectionName)}\")"
   ]
  },
  {
   "cell_type": "markdown",
   "id": "3181bf35-7f16-4b6f-9ef7-ef83742790ae",
   "metadata": {},
   "source": [
    "### Basic Operation: Database Creation, Collection Creation"
   ]
  },
  {
   "cell_type": "markdown",
   "id": "8cfbd561-5179-4b09-ad64-cbe9c40798ca",
   "metadata": {},
   "source": [
    "#### database creation"
   ]
  },
  {
   "cell_type": "code",
   "execution_count": 16,
   "id": "4af85692-95db-4287-9f3a-2472d4aa176d",
   "metadata": {},
   "outputs": [],
   "source": [
    "# client.create_database(\n",
    "#     db_name=\"dqe_kb_db\"\n",
    "# )"
   ]
  },
  {
   "cell_type": "code",
   "execution_count": null,
   "id": "a7296cba-8c9c-472a-add8-17fbf0d5ece0",
   "metadata": {},
   "outputs": [],
   "source": []
  },
  {
   "cell_type": "code",
   "execution_count": 17,
   "id": "fb02db5b-4599-4621-a3e9-4b45695a8139",
   "metadata": {},
   "outputs": [
    {
     "name": "stdout",
     "output_type": "stream",
     "text": [
      "utf-8\n"
     ]
    }
   ],
   "source": [
    "# check the encoding of csv file\n",
    "import chardet\n",
    "\n",
    "with open(_csv_src, 'rb') as f:\n",
    "    result = chardet.detect(f.read(10000))  # 讀取前 10000 bytes\n",
    "print(result['encoding'])"
   ]
  },
  {
   "cell_type": "code",
   "execution_count": 18,
   "id": "2e81c7ba-a2ea-486f-a53c-0102e1ccd6ad",
   "metadata": {},
   "outputs": [],
   "source": [
    "# def create_dqe_db(dbName:str=\"dqe_milvus_data.db\", collectionName:str=\"quality_issues\", fields:list=None):\n",
    "def create_dqe_collection(dbName:str=None, collectionName:str=None, collectionDesc:str=None, fieldList:list=None):\n",
    "    # 定义字段结构（关键修正点）\n",
    "    client.use_database(dbName)\n",
    "    fields = [\n",
    "        FieldSchema(name=\"pk\", dtype=DataType.INT64, is_primary=True, auto_id=True),\n",
    "        FieldSchema(name=\"problemtype\", dtype=DataType.VARCHAR, max_length=50),\n",
    "        FieldSchema(name=\"module\", dtype=DataType.VARCHAR, max_length=50),\n",
    "        FieldSchema(name=\"severity\", dtype=DataType.VARCHAR, max_length=1),\n",
    "        FieldSchema(\n",
    "                    name=\"description\",\n",
    "                    dtype=DataType.VARCHAR, \n",
    "                    max_length=2000,\n",
    "                    enable_analyzer=True, # Whether to enable text analysis for this field\n",
    "                    enable_match=True # Whether to enable text match\n",
    "                   ),\n",
    "        FieldSchema(name=\"causeAnalysis\", dtype=DataType.VARCHAR, max_length=2000),\n",
    "        FieldSchema(name=\"improve\", dtype=DataType.VARCHAR, max_length=2000),\n",
    "        FieldSchema(name=\"experience\", dtype=DataType.VARCHAR, max_length=2000),\n",
    "        # FieldSchema(name=\"judge\", dtype=DataType.VARCHAR, max_length=2000),\n",
    "        # FieldSchema(name=\"score\", dtype=DataType.INT16),\n",
    "        FieldSchema(name=\"vector\", dtype=DataType.FLOAT_VECTOR, dim=ef.dim)\n",
    "    ]\n",
    "    \n",
    "    # 创建集合（新API规范）\n",
    "    # collection_name = \"quality_issues\"\n",
    "    if client.has_collection(collectionName):\n",
    "        client.drop_collection(collectionName)\n",
    "    \n",
    "    client.create_collection(\n",
    "        collection_name=collectionName,\n",
    "        schema=CollectionSchema(fields, description=collectionDesc),  # 单一路径传递schema\n",
    "        # 不再需要单独传递fields参数\n",
    "    )\n",
    "    print(f\"collection created:\\n DB:{dbName}\\ncollection name:{collectionName}\");\n"
   ]
  },
  {
   "cell_type": "code",
   "execution_count": 19,
   "id": "7e9dcbc2-1c34-4cd7-a3c0-e713e6bae526",
   "metadata": {},
   "outputs": [
    {
     "name": "stdout",
     "output_type": "stream",
     "text": [
      "collection created:\n",
      " DB:dqe_kb_db\n",
      "collection name:qualityQA\n"
     ]
    }
   ],
   "source": [
    "create_dqe_collection(dbName=_dbName, collectionName=_collectionName, collectionDesc=_collectionDesc)\n",
    "# client.use_database(db_name=_dbName)"
   ]
  },
  {
   "cell_type": "markdown",
   "id": "9bf1ded8-c6f0-4a69-ba33-227fed251b25",
   "metadata": {},
   "source": [
    "#### delete collection"
   ]
  },
  {
   "cell_type": "code",
   "execution_count": 47,
   "id": "d41e47f8-7fce-4aec-98cc-0203c0ee23cb",
   "metadata": {},
   "outputs": [],
   "source": [
    "# def drop_collection(dbName:str=None, collectionName:str=None):\n",
    "#     # client.use_database(db_name=dbName)\n",
    "#     print(collectionName)\n",
    "#     client.list_collections()\n",
    "#     client.drop_collection(\n",
    "#         collection_name=collectionName\n",
    "#     )"
   ]
  },
  {
   "cell_type": "code",
   "execution_count": 10,
   "id": "7217df7d-b2ff-4c5e-9355-7d885a46f5a7",
   "metadata": {},
   "outputs": [],
   "source": [
    "# drop_collection(dbName=_dbName, collectionName=_collectionName)"
   ]
  },
  {
   "cell_type": "code",
   "execution_count": 16,
   "id": "eb698852-9488-4993-89a2-7bc3f914ed3c",
   "metadata": {},
   "outputs": [],
   "source": [
    "# def create_index(dbName:str=None, collectionName:str=None, paramDict:dict=None):\n",
    "#     # 索引創建參數\n",
    "#     # client.use_database(db_name=dbName)\n",
    "#     # client.load_collection(collection_name=collectionName)\n",
    "#     index_params = client.prepare_index_params()\n",
    "#     index_params.add_index(\n",
    "#         field_name=\"vector\", # use paramDict[\"field_name\"]\n",
    "#         index_type=\"IVF_FLAT\", # use paramDict[\"index_type\"]\n",
    "#         metric_type=\"COSINE\", # use paramDict[\"metric_type\"]\n",
    "#         params={\"nlist\": 256}  # 典型值 128-4096 #use paramDict[\"params\"]\n",
    "#     )\n",
    "#     # 搜索參數對應關係\n",
    "#     search_params = {\n",
    "#         \"nprobe\": 32  # 值範圍 [1, nlist] #use paramDict[\"search_params\"]\n",
    "#     }"
   ]
  },
  {
   "cell_type": "code",
   "execution_count": 12,
   "id": "b5fccb69-121b-465f-8de6-2cb28cd7bb7e",
   "metadata": {},
   "outputs": [],
   "source": [
    "# create_index(dbName=_dbName, collectionName=_collectionName)"
   ]
  },
  {
   "cell_type": "code",
   "execution_count": 17,
   "id": "b79428b2-4b77-4407-a795-3b23b68c0548",
   "metadata": {},
   "outputs": [],
   "source": [
    "# client.list_collections()"
   ]
  },
  {
   "cell_type": "markdown",
   "id": "eb549080-059d-428d-9177-da55088ac065",
   "metadata": {},
   "source": [
    "#### 建立資料"
   ]
  },
  {
   "cell_type": "code",
   "execution_count": 20,
   "id": "65cf249c-d456-4c94-a086-4c93467b3553",
   "metadata": {},
   "outputs": [],
   "source": [
    "def insert_items(csv_file:str=None, dbName:str=None, collectionName:str=None):\n",
    "    # 数据插入示例\n",
    "    client.use_database(db_name=dbName)\n",
    "    df = pd.read_csv(csv_file,encoding='utf-8')\n",
    "    # print(df.head())\n",
    "    fill_df = df.fillna(0)\n",
    "    data = [{\n",
    "        \"problemtype\":row[\"问题来源\"],\n",
    "        \"module\": row[\"模块\"],\n",
    "        \"severity\": str(row[\"严重度\"]),\n",
    "        \"description\": row[\"问题现象描述\"],\n",
    "        \"causeAnalysis\": str(row[\"原因分析\"]),\n",
    "        \"improve\": row[\"改善对策\"],\n",
    "        \"experience\": str(row[\"经验萃取\"]),\n",
    "        # \"judge\": row[\"评审后优化\"],\n",
    "        # \"score\": int(row[\"评分\"]),\n",
    "        # \"vector\": ef.encode_documents([row[\"问题来源\"],row[\"模块\"],row[\"问题现象描述\"]])[0]\n",
    "        \"vector\": ef.encode_documents([row[\"问题现象描述\"]])[0]\n",
    "    } for _, row in fill_df.iterrows()]\n",
    "    # print(data)\n",
    "    client.insert(collectionName, data)\n",
    "    \n",
    "    print(f\"成功插入 {len(df)} 条数据，向量维度={ef.dim}\")"
   ]
  },
  {
   "cell_type": "code",
   "execution_count": 21,
   "id": "28a6876d-f4c9-4813-9d0e-631cd42448cb",
   "metadata": {},
   "outputs": [
    {
     "name": "stdout",
     "output_type": "stream",
     "text": [
      "成功插入 108 条数据，向量维度=768\n"
     ]
    }
   ],
   "source": [
    "insert_items(csv_file=_csv_src, dbName=_dbName, collectionName=_collectionName)\n",
    "##成功插入 108 条数据，向量维度=768"
   ]
  },
  {
   "cell_type": "markdown",
   "id": "a20d7806-655e-4d8a-b31a-9bcfadde60f0",
   "metadata": {},
   "source": [
    "#### 建立index"
   ]
  },
  {
   "cell_type": "code",
   "execution_count": 22,
   "id": "c4346340-47f7-466a-9bbd-ef78a750ef49",
   "metadata": {},
   "outputs": [],
   "source": [
    "def create_index(dbName:str=None, collectionName:str=None):\n",
    "    print(f\"db name:{dbName}\\ncollection name:{collectionName}\")\n",
    "    client.use_database(db_name=dbName)\n",
    "    index_params = client.prepare_index_params()\n",
    "    index_params.add_index(\n",
    "        field_name=\"vector\",\n",
    "        index_type=\"IVF_FLAT\",  # 改用支持的类型\n",
    "        metric_type=\"COSINE\",\n",
    "        params={\"nlist\": 128}  # 典型参数配置\n",
    "    )\n",
    "    \n",
    "    # 创建索引\n",
    "    client.create_index(\n",
    "        collection_name=collectionName,\n",
    "        index_params=index_params\n",
    "    )"
   ]
  },
  {
   "cell_type": "code",
   "execution_count": 23,
   "id": "9fb4833a-3216-42c5-9723-540c25bc6880",
   "metadata": {},
   "outputs": [
    {
     "name": "stdout",
     "output_type": "stream",
     "text": [
      "db name:dqe_kb_db\n",
      "collection name:qualityQA\n"
     ]
    }
   ],
   "source": [
    "# create_index(dbName=_dbName, collectionName=_collectionName)"
   ]
  },
  {
   "cell_type": "markdown",
   "id": "23d0e47d-b608-43ab-b659-46d9884aa87a",
   "metadata": {},
   "source": [
    "## Test Codes"
   ]
  },
  {
   "cell_type": "markdown",
   "id": "b5b0f235-10a0-4a70-9f79-4f7d85d7303f",
   "metadata": {},
   "source": [
    "#### loading db and collection"
   ]
  },
  {
   "cell_type": "code",
   "execution_count": null,
   "id": "8fe2a4f8-6562-493c-aedf-975403d890a3",
   "metadata": {},
   "outputs": [],
   "source": []
  },
  {
   "cell_type": "code",
   "execution_count": 25,
   "id": "4650e46c-52ef-45e8-a4d9-1ce229e1b7d0",
   "metadata": {},
   "outputs": [],
   "source": [
    "# df = pd.read_csv(_csv_src)\n",
    "import duckdb, polars as pl"
   ]
  },
  {
   "cell_type": "code",
   "execution_count": 26,
   "id": "2442f9f9-b8b1-4e1d-bdc9-0f4827f9811b",
   "metadata": {},
   "outputs": [],
   "source": [
    "csvdb = \"../duckdb/db/csvdb.duckdb\"\n",
    "con = duckdb.connect(csvdb)\n",
    "pl_df = con.execute(\"SELECT * FROM my_table\").pl()\n",
    "con.close()"
   ]
  },
  {
   "cell_type": "code",
   "execution_count": 27,
   "id": "4ffc933e-6e9f-4f95-a617-4958a1156ecf",
   "metadata": {},
   "outputs": [
    {
     "name": "stdout",
     "output_type": "stream",
     "text": [
      "shape: (108, 8)\n",
      "┌──────────┬──────┬────────┬──────────────┬──────────────┬─────────────┬─────────────┬─────────────┐\n",
      "│ 问题来源 ┆ 模块 ┆ 严重度 ┆ 问题现象描述 ┆ 原因分析     ┆ 改善对策    ┆ 经验萃取    ┆ column7     │\n",
      "│ ---      ┆ ---  ┆ ---    ┆ ---          ┆ ---          ┆ ---         ┆ ---         ┆ ---         │\n",
      "│ str      ┆ str  ┆ str    ┆ str          ┆ str          ┆ str         ┆ str         ┆ str         │\n",
      "╞══════════╪══════╪════════╪══════════════╪══════════════╪═════════════╪═════════════╪═════════════╡\n",
      "│ PVT      ┆ 结构 ┆ B      ┆ 摄像头偏心   ┆ 1.大公模项目 ┆ 1.设计时需  ┆ 1.从项目开  ┆ null        │\n",
      "│          ┆      ┆        ┆              ┆ 设计公差累计 ┆ 要完全定位  ┆ 始立项与结  ┆             │\n",
      "│          ┆      ┆        ┆              ┆ 为0.8mm      ┆ 摄像头,不使 ┆ 构设计需提  ┆             │\n",
      "│          ┆      ┆        ┆              ┆ 2.与客户标准 ┆ 用治具/人为 ┆ 前定义偏心  ┆             │\n",
      "│          ┆      ┆        ┆              ┆ 未达成…      ┆ 等矫正措施  ┆ 标准        ┆             │\n",
      "│          ┆      ┆        ┆              ┆              ┆ 2…          ┆ 笔电 ≤0.…   ┆             │\n",
      "│ PVT      ┆ 结构 ┆ B      ┆ 紫光客诉TF卡 ┆ 亿道公模项目 ┆ 1.在设计初  ┆ 前期设计时  ┆ null        │\n",
      "│          ┆      ┆        ┆ 不防盲插     ┆ 并未定义防盲 ┆ 期增加防盲  ┆ 定义接口防  ┆             │\n",
      "│          ┆      ┆        ┆              ┆ 插           ┆ 插          ┆ 盲插标准    ┆             │\n",
      "│          ┆      ┆        ┆              ┆              ┆ 2.针对以后  ┆             ┆             │\n",
      "│          ┆      ┆        ┆              ┆              ┆ 带TF卡插槽  ┆             ┆             │\n",
      "│          ┆      ┆        ┆              ┆              ┆ 的项目,需…  ┆             ┆             │\n",
      "│ PVT      ┆ 结构 ┆ B      ┆ 摄像头物理开 ┆ 摄像头物理开 ┆ 摄像头物理  ┆ 1.建议物理  ┆ null        │\n",
      "│          ┆      ┆        ┆ 关跌落测试时 ┆ 关凸出较高(0 ┆ 开关降低凸  ┆ 开关C壳位置 ┆             │\n",
      "│          ┆      ┆        ┆ 断裂         ┆ .7mm-0.8mm)  ┆ 出C壳高度至 ┆ 做凹槽设计- ┆             │\n",
      "│          ┆      ┆        ┆              ┆ 且面积较小,… ┆ 0.3mm~0.4mm ┆ ->如图      ┆             │\n",
      "│          ┆      ┆        ┆              ┆              ┆ (实测…      ┆             ┆             │\n",
      "│          ┆      ┆        ┆              ┆              ┆             ┆             ┆             │\n",
      "│          ┆      ┆        ┆              ┆              ┆             ┆             ┆             │\n",
      "│          ┆      ┆        ┆              ┆              ┆             ┆ 2.建议…     ┆             │\n",
      "│ PVT      ┆ 结构 ┆ B      ┆ 外观检验发现 ┆ 1、MIC泡棉被 ┆ 1、修改MIC  ┆             ┆ null        │\n",
      "│          ┆      ┆        ┆ MIC堵孔（MIC ┆ 挤压变形、泡 ┆ 泡棉孔尺寸  ┆ 1. 泡棉材质 ┆             │\n",
      "│          ┆      ┆        ┆ 孔内可见内部 ┆ 棉孔不规则导 ┆ 由原来1.2mm ┆ 选择压缩量  ┆             │\n",
      "│          ┆      ┆        ┆ 泡棉）       ┆ 致           ┆ 扩大到1.4mm ┆ 偏小        ┆             │\n",
      "│          ┆      ┆        ┆              ┆ 2、临时方案: ┆ 、6…        ┆ 2. 研发设计 ┆             │\n",
      "│          ┆      ┆        ┆              ┆ M…           ┆             ┆ MIC孔泡棉尺 ┆             │\n",
      "│          ┆      ┆        ┆              ┆              ┆             ┆ …           ┆             │\n",
      "│ PVT      ┆ 结构 ┆ B      ┆ 电源键漏光   ┆ 1.遮光泡棉黏 ┆             ┆ 研发设计电  ┆ null        │\n",
      "│          ┆      ┆        ┆ 暗环境较明显 ┆ 贴偏位、SOP  ┆ 遮光泡棉由1 ┆ 源灯遮光泡  ┆             │\n",
      "│          ┆      ┆        ┆ （安全锁孔位 ┆ 规范黏贴泡棉 ┆ 字形装、修  ┆ 棉为凹字形  ┆             │\n",
      "│          ┆      ┆        ┆ 置漏电源灯光 ┆ 位置         ┆ 改为凹字形  ┆ 完全遮挡灯  ┆             │\n",
      "│          ┆      ┆        ┆ ）           ┆ 2.遮光泡棉设 ┆ 已改善漏光  ┆ 光外漏光现  ┆             │\n",
      "│          ┆      ┆        ┆              ┆ …            ┆ 问题        ┆ 象          ┆             │\n",
      "│          ┆      ┆        ┆              ┆              ┆             ┆             ┆             │\n",
      "│          ┆      ┆        ┆              ┆              ┆             ┆             ┆             │\n",
      "│          ┆      ┆        ┆              ┆              ┆             ┆             ┆             │\n",
      "│          ┆      ┆        ┆              ┆              ┆             ┆ …           ┆             │\n",
      "│          ┆      ┆        ┆              ┆              ┆             ┆             ┆             │\n",
      "│ …        ┆ …    ┆ …      ┆ …            ┆ …            ┆ …           ┆ …           ┆ …           │\n",
      "│ EVT      ┆ 硬件 ┆ A      ┆ IDN325项目EV ┆ null         ┆ 1. 对比同机 ┆ 临时对策：  ┆ Alder lake- │\n",
      "│          ┆      ┆        ┆ T阶段16G DDR ┆              ┆ 型的4G/8G配 ┆ 通过飞线在  ┆ N平台的DDR  │\n",
      "│          ┆      ┆        ┆ 配置在标准速 ┆              ┆ 置无此问题  ┆ 每个CTRL信  ┆ 走线（尤其  │\n",
      "│          ┆      ┆        ┆ 率320…       ┆              ┆ ，4G/8G DD… ┆ 号拓扑的末  ┆ 是DDP封装类 │\n",
      "│          ┆      ┆        ┆              ┆              ┆             ┆ 端增加上拉  ┆ …           │\n",
      "│          ┆      ┆        ┆              ┆              ┆             ┆ 电阻…       ┆             │\n",
      "│ PVT      ┆ 软件 ┆ A      ┆ 低温运行后机 ┆ N/A          ┆ 目前充电逻  ┆ EC增加90%以 ┆ EC需增加电  │\n",
      "│          ┆      ┆        ┆ 器出现关机现 ┆              ┆ 辑为机器电  ┆ 上电量时系  ┆ 量check机制 │\n",
      "│          ┆      ┆        ┆ 象，连接适配 ┆              ┆ 量在大于90% ┆ 统电量与电  ┆ ，避免系统  │\n",
      "│          ┆      ┆        ┆ 器开机提示低 ┆              ┆ 的时候系统  ┆ 池电量check ┆ 电量与电池  │\n",
      "│          ┆      ┆        ┆ 电           ┆              ┆ 电量按照3~4 ┆ 机制，每…   ┆ 电量不一致  │\n",
      "│          ┆      ┆        ┆              ┆              ┆ 分…         ┆             ┆ 产…         │\n",
      "│ MP       ┆ 软件 ┆ A      ┆ ZL513项目首  ┆ N/A          ┆ 相机打不开  ┆ 更新OS，加  ┆ 针对服务型  │\n",
      "│          ┆      ┆        ┆ 单全检400pcs ┆              ┆ 分析与OS相  ┆ 入自动校验  ┆ 的工具，在O │\n",
      "│          ┆      ┆        ┆ 有3pcs       ┆              ┆ 关，是应用  ┆ 动作，如果  ┆ S DL过程中  │\n",
      "│          ┆      ┆        ┆ Fn+F10无…    ┆              ┆ 在安装的过  ┆ 服务没建立  ┆ 加入自动校  │\n",
      "│          ┆      ┆        ┆              ┆              ┆ 程中，建立  ┆ 就自动修复  ┆ 验动作      │\n",
      "│          ┆      ┆        ┆              ┆              ┆ 服务失败…   ┆ ，实在无…   ┆             │\n",
      "│ EVT      ┆ 结构 ┆ B      ┆ 左高音喇叭线 ┆ null         ┆ 设计时按照  ┆ 喇叭出线位  ┆ 结构堆叠时  │\n",
      "│          ┆      ┆        ┆ 出线口与主板 ┆              ┆ 喇叭线径预  ┆ 置进行修改  ┆ 喇叭出线口  │\n",
      "│          ┆      ┆        ┆ 边干涉,锁喇  ┆              ┆ 留板边间隙  ┆ ，避开小板  ┆ 位置距离板  │\n",
      "│          ┆      ┆        ┆ 叭固定螺丝后 ┆              ┆ ，实际喇叭  ┆ 边缘        ┆ 边或其他器  │\n",
      "│          ┆      ┆        ┆ 有压线风险   ┆              ┆ 出线位置有  ┆             ┆ 件至少2mm   │\n",
      "│          ┆      ┆        ┆              ┆              ┆ 点胶保护，… ┆             ┆             │\n",
      "│ EVT      ┆ 软件 ┆ A      ┆ 高温运行过程 ┆ N/A          ┆ 电池在超过4 ┆ 经确认电池  ┆ EC设定电池  │\n",
      "│          ┆      ┆        ┆ 中电池不充电 ┆              ┆ 5℃时（电池  ┆ 规格为60℃温 ┆ 保护温度时  │\n",
      "│          ┆      ┆        ┆              ┆              ┆ 反馈给EC的  ┆ 度保护，与E ┆ 需要确认与  │\n",
      "│          ┆      ┆        ┆              ┆              ┆ 温度）有电  ┆ C确认更改EC ┆ 电池规格书  │\n",
      "│          ┆      ┆        ┆              ┆              ┆ 池保护，不  ┆ 设置与电池… ┆ 一致        │\n",
      "│          ┆      ┆        ┆              ┆              ┆ 充电        ┆             ┆             │\n",
      "└──────────┴──────┴────────┴──────────────┴──────────────┴─────────────┴─────────────┴─────────────┘\n"
     ]
    }
   ],
   "source": [
    "print(pl_df)"
   ]
  },
  {
   "cell_type": "code",
   "execution_count": 16,
   "id": "13d4e276-9b09-42b6-81d6-6cde02298a5c",
   "metadata": {},
   "outputs": [],
   "source": [
    "def test_basic_operations():\n",
    "    # 连接验证\n",
    "    client.use_database(db_name=_dbName)\n",
    "    client.load_collection(_collectionName)\n",
    "    assert client.has_collection(_collectionName), \"集合创建失败\"\n",
    "    print(client.has_collection(_collectionName))\n",
    "    \n",
    "    # 数据量验证\n",
    "    count = client.query(_collectionName, filter=\"\", output_fields=[\"count(*)\"])[0][\"count(*)\"]\n",
    "    assert count == len(df), f\"数据量不符 ({count} vs {len(df)})\"\n",
    "    \n",
    "    # 向量维度验证\n",
    "    collection_info = client.describe_collection(_collectionName)\n",
    "    \n",
    "    # assert collection_info[\"vector_field\"][\"dim\"] == ef.dim, \"向量维度错误\"\n",
    "    vector_fields = [f for f in collection_info['fields'] if f['type'] == DataType.FLOAT_VECTOR]\n",
    "    assert len(vector_fields) > 0, \"未找到向量字段\"\n",
    "    assert vector_fields[0]['params']['dim'] == ef.dim, \"向量維度錯誤\"\n",
    "    \n",
    "    # 随机抽样验证\n",
    "    sample = client.query(_collectionName, filter=\"pk < 5\", output_fields=[\"*\"])\n",
    "    for item in sample:\n",
    "        assert len(item[\"vector\"]) == ef.dim, \"向量长度异常\"\n",
    "        assert item[\"description\"], \"描述字段为空\"\n",
    "\n",
    "# test_basic_operations()\n"
   ]
  },
  {
   "cell_type": "markdown",
   "id": "286130d8-355f-4a87-95fe-408a45e78224",
   "metadata": {},
   "source": [
    "#### Test different searches"
   ]
  },
  {
   "cell_type": "code",
   "execution_count": 12,
   "id": "e042faa7-4281-4ff0-ad73-737bda834df6",
   "metadata": {},
   "outputs": [
    {
     "name": "stdout",
     "output_type": "stream",
     "text": [
      "if the collection:qualityQA is existed:True\n"
     ]
    },
    {
     "ename": "ConnectionNotExistException",
     "evalue": "<ConnectionNotExistException: (code=1, message=should create connection first.)>",
     "output_type": "error",
     "traceback": [
      "\u001b[0;31m---------------------------------------------------------------------------\u001b[0m",
      "\u001b[0;31mConnectionNotExistException\u001b[0m               Traceback (most recent call last)",
      "Cell \u001b[0;32mIn[12], line 35\u001b[0m\n\u001b[1;32m     32\u001b[0m     distances \u001b[38;5;241m=\u001b[39m [hit[\u001b[38;5;124m'\u001b[39m\u001b[38;5;124mdistance\u001b[39m\u001b[38;5;124m'\u001b[39m] \u001b[38;5;28;01mfor\u001b[39;00m hit \u001b[38;5;129;01min\u001b[39;00m results[\u001b[38;5;241m0\u001b[39m]]\n\u001b[1;32m     33\u001b[0m     \u001b[38;5;66;03m# assert max(distances) > 0.7  # 根據實際數據調整閾值\u001b[39;00m\n\u001b[0;32m---> 35\u001b[0m \u001b[43mtest_hybrid_search_1\u001b[49m\u001b[43m(\u001b[49m\u001b[43m)\u001b[49m\n",
      "Cell \u001b[0;32mIn[12], line 6\u001b[0m, in \u001b[0;36mtest_hybrid_search_1\u001b[0;34m()\u001b[0m\n\u001b[1;32m      4\u001b[0m \u001b[38;5;28mprint\u001b[39m(\u001b[38;5;124mf\u001b[39m\u001b[38;5;124m\"\u001b[39m\u001b[38;5;124mif the collection:\u001b[39m\u001b[38;5;132;01m{\u001b[39;00m_collectionName\u001b[38;5;132;01m}\u001b[39;00m\u001b[38;5;124m is existed:\u001b[39m\u001b[38;5;132;01m{\u001b[39;00mexists\u001b[38;5;132;01m}\u001b[39;00m\u001b[38;5;124m\"\u001b[39m)\n\u001b[1;32m      5\u001b[0m \u001b[38;5;28;01mif\u001b[39;00m exists:\n\u001b[0;32m----> 6\u001b[0m     load_state \u001b[38;5;241m=\u001b[39m \u001b[43mutility\u001b[49m\u001b[38;5;241;43m.\u001b[39;49m\u001b[43mload_state\u001b[49m\u001b[43m(\u001b[49m\u001b[43mcollection_name\u001b[49m\u001b[38;5;241;43m=\u001b[39;49m\u001b[43m_collectionName\u001b[49m\u001b[43m)\u001b[49m\n\u001b[1;32m      7\u001b[0m     \u001b[38;5;28mprint\u001b[39m(\u001b[38;5;124mf\u001b[39m\u001b[38;5;124m\"\u001b[39m\u001b[38;5;124mif the collection:\u001b[39m\u001b[38;5;132;01m{\u001b[39;00m_collectionName\u001b[38;5;132;01m}\u001b[39;00m\u001b[38;5;124m loaded:\u001b[39m\u001b[38;5;132;01m{\u001b[39;00mload_state\u001b[38;5;132;01m}\u001b[39;00m\u001b[38;5;124m\"\u001b[39m)\n\u001b[1;32m      8\u001b[0m \u001b[38;5;28;01mreturn\u001b[39;00m\n",
      "File \u001b[0;32m~/.conda/envs/llmenv/lib/python3.11/site-packages/pymilvus/orm/utility.py:266\u001b[0m, in \u001b[0;36mload_state\u001b[0;34m(collection_name, partition_names, using, timeout)\u001b[0m\n\u001b[1;32m    226\u001b[0m \u001b[38;5;28;01mdef\u001b[39;00m\u001b[38;5;250m \u001b[39m\u001b[38;5;21mload_state\u001b[39m(\n\u001b[1;32m    227\u001b[0m     collection_name: \u001b[38;5;28mstr\u001b[39m,\n\u001b[1;32m    228\u001b[0m     partition_names: Optional[List[\u001b[38;5;28mstr\u001b[39m]] \u001b[38;5;241m=\u001b[39m \u001b[38;5;28;01mNone\u001b[39;00m,\n\u001b[1;32m    229\u001b[0m     using: \u001b[38;5;28mstr\u001b[39m \u001b[38;5;241m=\u001b[39m \u001b[38;5;124m\"\u001b[39m\u001b[38;5;124mdefault\u001b[39m\u001b[38;5;124m\"\u001b[39m,\n\u001b[1;32m    230\u001b[0m     timeout: Optional[\u001b[38;5;28mfloat\u001b[39m] \u001b[38;5;241m=\u001b[39m \u001b[38;5;28;01mNone\u001b[39;00m,\n\u001b[1;32m    231\u001b[0m ):\n\u001b[1;32m    232\u001b[0m \u001b[38;5;250m    \u001b[39m\u001b[38;5;124;03m\"\"\"Show load state of collection or partitions.\u001b[39;00m\n\u001b[1;32m    233\u001b[0m \u001b[38;5;124;03m    :param collection_name: The name of collection is loading\u001b[39;00m\n\u001b[1;32m    234\u001b[0m \u001b[38;5;124;03m    :type  collection_name: str\u001b[39;00m\n\u001b[0;32m   (...)\u001b[0m\n\u001b[1;32m    264\u001b[0m \u001b[38;5;124;03m        >>> assert utility.load_state(\"test_load_state\") == LoadState.Loaded\u001b[39;00m\n\u001b[1;32m    265\u001b[0m \u001b[38;5;124;03m    \"\"\"\u001b[39;00m\n\u001b[0;32m--> 266\u001b[0m     \u001b[38;5;28;01mreturn\u001b[39;00m \u001b[43m_get_connection\u001b[49m\u001b[43m(\u001b[49m\u001b[43musing\u001b[49m\u001b[43m)\u001b[49m\u001b[38;5;241m.\u001b[39mget_load_state(collection_name, partition_names, timeout\u001b[38;5;241m=\u001b[39mtimeout)\n",
      "File \u001b[0;32m~/.conda/envs/llmenv/lib/python3.11/site-packages/pymilvus/orm/utility.py:176\u001b[0m, in \u001b[0;36m_get_connection\u001b[0;34m(alias)\u001b[0m\n\u001b[1;32m    175\u001b[0m \u001b[38;5;28;01mdef\u001b[39;00m\u001b[38;5;250m \u001b[39m\u001b[38;5;21m_get_connection\u001b[39m(alias: \u001b[38;5;28mstr\u001b[39m):\n\u001b[0;32m--> 176\u001b[0m     \u001b[38;5;28;01mreturn\u001b[39;00m \u001b[43mconnections\u001b[49m\u001b[38;5;241;43m.\u001b[39;49m\u001b[43m_fetch_handler\u001b[49m\u001b[43m(\u001b[49m\u001b[43malias\u001b[49m\u001b[43m)\u001b[49m\n",
      "File \u001b[0;32m~/.conda/envs/llmenv/lib/python3.11/site-packages/pymilvus/orm/connections.py:554\u001b[0m, in \u001b[0;36mConnections._fetch_handler\u001b[0;34m(self, alias)\u001b[0m\n\u001b[1;32m    552\u001b[0m conn \u001b[38;5;241m=\u001b[39m \u001b[38;5;28mself\u001b[39m\u001b[38;5;241m.\u001b[39m_connected_alias\u001b[38;5;241m.\u001b[39mget(alias, \u001b[38;5;28;01mNone\u001b[39;00m)\n\u001b[1;32m    553\u001b[0m \u001b[38;5;28;01mif\u001b[39;00m conn \u001b[38;5;129;01mis\u001b[39;00m \u001b[38;5;28;01mNone\u001b[39;00m:\n\u001b[0;32m--> 554\u001b[0m     \u001b[38;5;28;01mraise\u001b[39;00m ConnectionNotExistException(message\u001b[38;5;241m=\u001b[39mExceptionsMessage\u001b[38;5;241m.\u001b[39mConnectFirst)\n\u001b[1;32m    556\u001b[0m \u001b[38;5;28;01mreturn\u001b[39;00m conn\n",
      "\u001b[0;31mConnectionNotExistException\u001b[0m: <ConnectionNotExistException: (code=1, message=should create connection first.)>"
     ]
    }
   ],
   "source": [
    "def test_hybrid_search_1():\n",
    "    client.use_database(db_name=_dbName)\n",
    "    exists = client.has_collection(_collectionName)\n",
    "    print(f\"if the collection:{_collectionName} is existed:{exists}\")\n",
    "    if exists:\n",
    "        _load_state = client.get_load_state(collection_name=_collectionName)\n",
    "        print(f\"if the collection:{_collectionName} loaded:{_load_state}\")\n",
    "        if _load_state['state'] != LoadState.Loaded:\n",
    "            client.load_collection(_collectionName)\n",
    "    index_info = client.describe_index(_collectionName, \"vector\")\n",
    "    # print(index_info)\n",
    "    assert index_info[\"index_type\"] == \"IVF_FLAT\"\n",
    "    # assert index_info[\"nlist\"] == 256\n",
    "    assert int(index_info[\"nlist\"]) == 128\n",
    "    \n",
    "    # 執行混合查詢\n",
    "    # query = \"电池鼓包问题\"\n",
    "    query = \"比亚迪\"\n",
    "    encoded_query = ef.encode_documents([query])\n",
    "    # print(encoded_query)\n",
    "    query_vec = encoded_query[0]\n",
    "    results = client.search(\n",
    "        collection_name=_collectionName,\n",
    "        data=[query_vec],\n",
    "        output_fields=['description'],\n",
    "        # filter=\"severity == 'B'\",\n",
    "        # limit=3,\n",
    "        search_params= {\"metric_type\": \"COSINE\"}#{\"nprobe\":32}\n",
    "    )\n",
    "    # 精度驗證\n",
    "    print(f\"results:searched rows:{len(results[0])}\\n{results}\")\n",
    "    distances = [hit['distance'] for hit in results[0]]\n",
    "    # assert max(distances) > 0.7  # 根據實際數據調整閾值\n",
    "\n",
    "test_hybrid_search_1()"
   ]
  },
  {
   "cell_type": "code",
   "execution_count": 25,
   "id": "ced3df9c-3a70-42a5-95e0-3397689797fa",
   "metadata": {},
   "outputs": [],
   "source": [
    "# import time\n",
    "\n",
    "# def test_performance():\n",
    "#     # 查询延迟测试\n",
    "#     start = time.time()\n",
    "#     client.query(collection_name, filter=\"pk < 100\", limit=100)\n",
    "#     print(f\"标量查询延迟: {time.time()-start:.4f}s\")\n",
    "\n",
    "#     # 向量搜索压力测试\n",
    "#     test_vectors = [ef.random_vector(ef.dim) for _ in range(100)]\n",
    "#     start = time.time()\n",
    "#     client.search(collection_name, data=test_vectors, limit=3)\n",
    "#     print(f\"批量向量搜索延迟: {time.time()-start:.4f}s\")\n",
    "\n",
    "# test_performance()"
   ]
  },
  {
   "cell_type": "code",
   "execution_count": null,
   "id": "5b8f6940-4348-419a-a1b4-bc6112ade04a",
   "metadata": {},
   "outputs": [],
   "source": []
  }
 ],
 "metadata": {
  "kernelspec": {
   "display_name": "Python 3 (ipykernel)",
   "language": "python",
   "name": "python3"
  },
  "language_info": {
   "codemirror_mode": {
    "name": "ipython",
    "version": 3
   },
   "file_extension": ".py",
   "mimetype": "text/x-python",
   "name": "python",
   "nbconvert_exporter": "python",
   "pygments_lexer": "ipython3",
   "version": "3.11.11"
  }
 },
 "nbformat": 4,
 "nbformat_minor": 5
}
